{
 "cells": [
  {
   "cell_type": "markdown",
   "id": "7e599c18",
   "metadata": {},
   "source": [
    "### 시퀀스를 개별 변수로 나누기"
   ]
  },
  {
   "cell_type": "code",
   "execution_count": 1,
   "id": "32ac9f2e",
   "metadata": {},
   "outputs": [
    {
     "name": "stdout",
     "output_type": "stream",
     "text": [
      "4\n",
      "5\n"
     ]
    }
   ],
   "source": [
    "p = (4, 5)\n",
    "x, y = p\n",
    "print(x)\n",
    "print(y)"
   ]
  },
  {
   "cell_type": "code",
   "execution_count": 4,
   "id": "cbbb3e57",
   "metadata": {},
   "outputs": [
    {
     "name": "stdout",
     "output_type": "stream",
     "text": [
      "Kim\n",
      "kim@test.com\n",
      "['010-0000-1111', '031-220-1111']\n"
     ]
    }
   ],
   "source": [
    "records = ('Kim', \"kim@test.com\", '010-0000-1111', '031-220-1111')\n",
    "name, email, *phone = records\n",
    "print(name)\n",
    "print(email)\n",
    "print(phone)"
   ]
  },
  {
   "cell_type": "code",
   "execution_count": 10,
   "id": "93b5d085",
   "metadata": {},
   "outputs": [],
   "source": [
    "# 마지막 N개 아이템 유지하는 방법\n",
    "from collections import deque"
   ]
  },
  {
   "cell_type": "code",
   "execution_count": 11,
   "id": "7b42a398",
   "metadata": {},
   "outputs": [],
   "source": [
    "q = deque(maxlen=3)"
   ]
  },
  {
   "cell_type": "code",
   "execution_count": 12,
   "id": "c31aa55f",
   "metadata": {},
   "outputs": [
    {
     "data": {
      "text/plain": [
       "deque([1, 2, 3])"
      ]
     },
     "execution_count": 12,
     "metadata": {},
     "output_type": "execute_result"
    }
   ],
   "source": [
    "q.append(1)\n",
    "q.append(2)\n",
    "q.append(3)\n",
    "q"
   ]
  },
  {
   "cell_type": "code",
   "execution_count": 13,
   "id": "6a496f2b",
   "metadata": {},
   "outputs": [
    {
     "data": {
      "text/plain": [
       "deque([2, 3, 4])"
      ]
     },
     "execution_count": 13,
     "metadata": {},
     "output_type": "execute_result"
    }
   ],
   "source": [
    "q.append(4)\n",
    "q"
   ]
  },
  {
   "cell_type": "code",
   "execution_count": 14,
   "id": "73fc06b3",
   "metadata": {},
   "outputs": [],
   "source": [
    "# 리스트 내 최대 또는 최소값 찾기\n",
    "import heapq"
   ]
  },
  {
   "cell_type": "code",
   "execution_count": 16,
   "id": "9b12c21c",
   "metadata": {},
   "outputs": [
    {
     "name": "stdout",
     "output_type": "stream",
     "text": [
      "[50, 43, 34]\n",
      "[-14, -3, 1]\n"
     ]
    }
   ],
   "source": [
    "nums = [1, 7, 4, 20, -3, 43, -14, 24, 50, 34]\n",
    "print(heapq.nlargest(3, nums))\n",
    "print(heapq.nsmallest(3, nums))"
   ]
  },
  {
   "cell_type": "code",
   "execution_count": null,
   "id": "feb6efa3",
   "metadata": {},
   "outputs": [],
   "source": []
  }
 ],
 "metadata": {
  "kernelspec": {
   "display_name": "Python 3 (ipykernel)",
   "language": "python",
   "name": "python3"
  },
  "language_info": {
   "codemirror_mode": {
    "name": "ipython",
    "version": 3
   },
   "file_extension": ".py",
   "mimetype": "text/x-python",
   "name": "python",
   "nbconvert_exporter": "python",
   "pygments_lexer": "ipython3",
   "version": "3.7.11"
  }
 },
 "nbformat": 4,
 "nbformat_minor": 5
}
